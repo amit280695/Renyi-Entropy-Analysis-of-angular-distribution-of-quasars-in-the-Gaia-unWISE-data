{
 "cells": [
  {
   "cell_type": "code",
   "execution_count": 1,
   "id": "dd0efa2b-8393-45f0-9038-0f1fc3f0f0fc",
   "metadata": {},
   "outputs": [],
   "source": [
    "import numpy as np\n",
    "import pandas as pd\n",
    "from astropy.table import Table\n",
    "from astropy.cosmology import Planck18 as cosmo\n",
    "\n",
    "\n",
    "data = Table.read('data/quaia_G20.0.fits')\n",
    "\n",
    "# Convert big-endian arrays to native byte order\n",
    "def to_native(array):\n",
    "    return np.array(array).byteswap().newbyteorder()\n",
    "\n",
    "df0 = pd.DataFrame({\n",
    "    'l': to_native(data['l']),\n",
    "    'b': to_native(data['b']),\n",
    "    'redshift': to_native(data['redshift_quaia']),\n",
    "    'g_mag': to_native(data['phot_g_mean_mag'])\n",
    "})\n",
    "\n",
    "theta = np.radians(90 - df0['b'])\n",
    "phi = np.radians(df0['l'])\n",
    "r = cosmo.comoving_distance(df0['redshift']).value\n",
    "\n",
    "df = pd.DataFrame({\n",
    "    'r': r,\n",
    "    'theta': theta,\n",
    "    'phi': phi,\n",
    "    'l': df0['l'],\n",
    "    'b': df0['b'],\n",
    "    'redshift': df0['redshift']\n",
    "})\n",
    "\n",
    "df1 = df[(df['redshift'] < 1.0) & (df['redshift'] >= 0.36)]\n",
    "df1.to_csv(\"data/quasar_sample_1.csv\", index=False)\n",
    "\n",
    "df2 = df[(df['redshift'] < 2.20) & (df['redshift'] >= 1.0)]\n",
    "df2.to_csv(\"data/quasar_sample_2.csv\", index=False)\n",
    "\n",
    "df3 = df[(df['redshift'] <= 2.80) & (df['redshift'] >= 2.20)]\n",
    "df3.to_csv(\"data/quasar_sample_3.csv\", index=False)\n"
   ]
  }
 ],
 "metadata": {
  "kernelspec": {
   "display_name": "Python 3 (ipykernel)",
   "language": "python",
   "name": "python3"
  },
  "language_info": {
   "codemirror_mode": {
    "name": "ipython",
    "version": 3
   },
   "file_extension": ".py",
   "mimetype": "text/x-python",
   "name": "python",
   "nbconvert_exporter": "python",
   "pygments_lexer": "ipython3",
   "version": "3.9.19"
  }
 },
 "nbformat": 4,
 "nbformat_minor": 5
}
