{
 "cells": [
  {
   "cell_type": "code",
   "execution_count": 1,
   "id": "58b07f3b",
   "metadata": {},
   "outputs": [],
   "source": [
    "import numpy as np\n",
    "import healpy as hp\n",
    "import pandas as pd\n",
    "import os\n",
    "output_dir = \"mask2\"\n",
    "os.makedirs(output_dir, exist_ok=True)  # Create the directory if it doesn't exist\n",
    "\n",
    "for k in range(3):\n",
    "    f = 'data/quasar_sample_' + str(k+1) + '.csv'\n",
    "    fd0 = pd.read_csv(f)\n",
    "\n",
    "    # Apply Galactic latitude mask\n",
    "    mask = (fd0['b'] >= 40) | (fd0['b'] <= -60)\n",
    "    fd = fd0[mask].reset_index(drop=True)\n",
    "\n",
    "\n",
    "    r = fd['r'].to_numpy()    \n",
    "    th = fd['theta'].to_numpy()\n",
    "    ph = fd['phi'].to_numpy()\n",
    "\n",
    "    Nside= 64                 \n",
    "    Npix=hp.nside2npix(Nside)\n",
    "\n",
    "   \n",
    "    m=np.zeros(Npix, dtype= int)\n",
    "    for i in range(len(r)):\n",
    "        px=hp.ang2pix(Nside, th[i], ph[i])\n",
    "        m [px]+=1\n",
    "\n",
    "    P=[]\n",
    "    for j in range(Npix):\n",
    "        if(m[j]>0):\n",
    "            P.append(j)\n",
    "    p = np.array(P)\n",
    "    df1 = pd.DataFrame(data=p)\n",
    "    f1 = 'mask3/non_zero_pix_id_' + str(k+1) + '.dat'\n",
    "\n",
    "    df1.to_csv(f1,sep='\\t',header = None,index = False)\n",
    "            \n",
    "    op = 'mask3/masked_sample_' + str(k+1) + '.dat'\n",
    "    df_masked = pd.DataFrame({'r': r,'theta': th,'phi': ph})\n",
    "    df_masked.to_csv(op,sep = '\\t',header = None,index = False)\n"
   ]
  }
 ],
 "metadata": {
  "kernelspec": {
   "display_name": "Python 3 (ipykernel)",
   "language": "python",
   "name": "python3"
  },
  "language_info": {
   "codemirror_mode": {
    "name": "ipython",
    "version": 3
   },
   "file_extension": ".py",
   "mimetype": "text/x-python",
   "name": "python",
   "nbconvert_exporter": "python",
   "pygments_lexer": "ipython3",
   "version": "3.9.19"
  }
 },
 "nbformat": 4,
 "nbformat_minor": 5
}
